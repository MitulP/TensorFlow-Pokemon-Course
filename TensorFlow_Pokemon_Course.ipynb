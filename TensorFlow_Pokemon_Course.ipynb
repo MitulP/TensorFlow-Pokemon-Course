{
  "nbformat": 4,
  "nbformat_minor": 0,
  "metadata": {
    "colab": {
      "name": "TensorFlow-Pokemon-Course.ipynb",
      "provenance": []
    },
    "kernelspec": {
      "name": "python3",
      "display_name": "Python 3"
    }
  },
  "cells": [
    {
      "cell_type": "markdown",
      "metadata": {
        "id": "Q3agnxAacIZX",
        "colab_type": "text"
      },
      "source": [
        "Install and setup environment "
      ]
    },
    {
      "cell_type": "markdown",
      "metadata": {
        "id": "JWKFA1NPcQSY",
        "colab_type": "text"
      },
      "source": [
        "First, let's download TensorFlow through pip. While you can install the version of TensorFlow that uses your GPU, we'll be using the CPU-driven TensorFlow. Type this into your terminal:"
      ]
    },
    {
      "cell_type": "code",
      "metadata": {
        "id": "XZ4Q0NhWcRsZ",
        "colab_type": "code",
        "colab": {}
      },
      "source": [
        "!pip install tensorflow"
      ],
      "execution_count": null,
      "outputs": []
    },
    {
      "cell_type": "markdown",
      "metadata": {
        "id": "urLB3moucXhj",
        "colab_type": "text"
      },
      "source": [
        "Now that it's installed, we can truly begin. Let's import Tensorflow, and a few other packages we'll need. All of this course involve using the command line interface. Enter these commands to import and the necessary packages:\n"
      ]
    },
    {
      "cell_type": "code",
      "metadata": {
        "id": "scxUP664cKfq",
        "colab_type": "code",
        "colab": {}
      },
      "source": [
        "import tensorflow as tf\n",
        "from tensorflow import keras\n",
        "import numpy as np\n",
        "import pandas as pd\n",
        "import matplotlib.pyplot as plt\n",
        "from sklearn import preprocessing"
      ],
      "execution_count": 2,
      "outputs": []
    },
    {
      "cell_type": "markdown",
      "metadata": {
        "id": "IDIoPGfacm7M",
        "colab_type": "text"
      },
      "source": [
        "There are a lot of existing compilations of Pokémon stats, but we'll be using a .CSV version [found on Kaggle](https://www.kaggle.com/alopez247/pokemon). There's a download button on the website, so save the file to your computer and we can begin."
      ]
    },
    {
      "cell_type": "code",
      "metadata": {
        "id": "4wpeXcHvdbQa",
        "colab_type": "code",
        "colab": {
          "base_uri": "https://localhost:8080/",
          "height": 35
        },
        "outputId": "c2868de9-09f6-4ed3-b577-685b84cab000"
      },
      "source": [
        "import os\n",
        "!ls"
      ],
      "execution_count": 5,
      "outputs": [
        {
          "output_type": "stream",
          "text": [
            "sample_data\n"
          ],
          "name": "stdout"
        }
      ]
    },
    {
      "cell_type": "code",
      "metadata": {
        "id": "K3wXPfhBc6x-",
        "colab_type": "code",
        "colab": {}
      },
      "source": [
        "df = pd.read_csv('pokemon.csv')"
      ],
      "execution_count": 6,
      "outputs": []
    },
    {
      "cell_type": "markdown",
      "metadata": {
        "id": "rq-RLkh1ftca",
        "colab_type": "text"
      },
      "source": [
        "First, let's see what the categories of data are."
      ]
    },
    {
      "cell_type": "code",
      "metadata": {
        "id": "9-wsVOWAfXwl",
        "colab_type": "code",
        "colab": {
          "base_uri": "https://localhost:8080/",
          "height": 126
        },
        "outputId": "38ab6226-2ad0-4514-f183-31e6eff745c4"
      },
      "source": [
        "df.columns"
      ],
      "execution_count": 7,
      "outputs": [
        {
          "output_type": "execute_result",
          "data": {
            "text/plain": [
              "Index(['Number', 'Name', 'Type_1', 'Type_2', 'Total', 'HP', 'Attack',\n",
              "       'Defense', 'Sp_Atk', 'Sp_Def', 'Speed', 'Generation', 'isLegendary',\n",
              "       'Color', 'hasGender', 'Pr_Male', 'Egg_Group_1', 'Egg_Group_2',\n",
              "       'hasMegaEvolution', 'Height_m', 'Weight_kg', 'Catch_Rate',\n",
              "       'Body_Style'],\n",
              "      dtype='object')"
            ]
          },
          "metadata": {
            "tags": []
          },
          "execution_count": 7
        }
      ]
    },
    {
      "cell_type": "markdown",
      "metadata": {
        "id": "JEVjUxTCfwvx",
        "colab_type": "text"
      },
      "source": [
        "we'll narrow our focus a little and only select categories we think will be relevant."
      ]
    },
    {
      "cell_type": "code",
      "metadata": {
        "id": "462KJsjDfZBg",
        "colab_type": "code",
        "colab": {}
      },
      "source": [
        "df = df[['isLegendary','Generation', 'Type_1', 'Type_2', 'HP', 'Attack', 'Defense', 'Sp_Atk', 'Sp_Def', 'Speed','Color','Egg_Group_1','Height_m','Weight_kg','Body_Style']]"
      ],
      "execution_count": 8,
      "outputs": []
    },
    {
      "cell_type": "code",
      "metadata": {
        "id": "ddNPw5nrfl4X",
        "colab_type": "code",
        "colab": {
          "base_uri": "https://localhost:8080/",
          "height": 198
        },
        "outputId": "8f8b69d9-c6b9-41cf-925f-a2ab8c6ec925"
      },
      "source": [
        "df.head()"
      ],
      "execution_count": 9,
      "outputs": [
        {
          "output_type": "execute_result",
          "data": {
            "text/html": [
              "<div>\n",
              "<style scoped>\n",
              "    .dataframe tbody tr th:only-of-type {\n",
              "        vertical-align: middle;\n",
              "    }\n",
              "\n",
              "    .dataframe tbody tr th {\n",
              "        vertical-align: top;\n",
              "    }\n",
              "\n",
              "    .dataframe thead th {\n",
              "        text-align: right;\n",
              "    }\n",
              "</style>\n",
              "<table border=\"1\" class=\"dataframe\">\n",
              "  <thead>\n",
              "    <tr style=\"text-align: right;\">\n",
              "      <th></th>\n",
              "      <th>isLegendary</th>\n",
              "      <th>Generation</th>\n",
              "      <th>Type_1</th>\n",
              "      <th>Type_2</th>\n",
              "      <th>HP</th>\n",
              "      <th>Attack</th>\n",
              "      <th>Defense</th>\n",
              "      <th>Sp_Atk</th>\n",
              "      <th>Sp_Def</th>\n",
              "      <th>Speed</th>\n",
              "      <th>Color</th>\n",
              "      <th>Egg_Group_1</th>\n",
              "      <th>Height_m</th>\n",
              "      <th>Weight_kg</th>\n",
              "      <th>Body_Style</th>\n",
              "    </tr>\n",
              "  </thead>\n",
              "  <tbody>\n",
              "    <tr>\n",
              "      <th>0</th>\n",
              "      <td>False</td>\n",
              "      <td>1</td>\n",
              "      <td>Grass</td>\n",
              "      <td>Poison</td>\n",
              "      <td>45</td>\n",
              "      <td>49</td>\n",
              "      <td>49</td>\n",
              "      <td>65</td>\n",
              "      <td>65</td>\n",
              "      <td>45</td>\n",
              "      <td>Green</td>\n",
              "      <td>Monster</td>\n",
              "      <td>0.71</td>\n",
              "      <td>6.9</td>\n",
              "      <td>quadruped</td>\n",
              "    </tr>\n",
              "    <tr>\n",
              "      <th>1</th>\n",
              "      <td>False</td>\n",
              "      <td>1</td>\n",
              "      <td>Grass</td>\n",
              "      <td>Poison</td>\n",
              "      <td>60</td>\n",
              "      <td>62</td>\n",
              "      <td>63</td>\n",
              "      <td>80</td>\n",
              "      <td>80</td>\n",
              "      <td>60</td>\n",
              "      <td>Green</td>\n",
              "      <td>Monster</td>\n",
              "      <td>0.99</td>\n",
              "      <td>13.0</td>\n",
              "      <td>quadruped</td>\n",
              "    </tr>\n",
              "    <tr>\n",
              "      <th>2</th>\n",
              "      <td>False</td>\n",
              "      <td>1</td>\n",
              "      <td>Grass</td>\n",
              "      <td>Poison</td>\n",
              "      <td>80</td>\n",
              "      <td>82</td>\n",
              "      <td>83</td>\n",
              "      <td>100</td>\n",
              "      <td>100</td>\n",
              "      <td>80</td>\n",
              "      <td>Green</td>\n",
              "      <td>Monster</td>\n",
              "      <td>2.01</td>\n",
              "      <td>100.0</td>\n",
              "      <td>quadruped</td>\n",
              "    </tr>\n",
              "    <tr>\n",
              "      <th>3</th>\n",
              "      <td>False</td>\n",
              "      <td>1</td>\n",
              "      <td>Fire</td>\n",
              "      <td>NaN</td>\n",
              "      <td>39</td>\n",
              "      <td>52</td>\n",
              "      <td>43</td>\n",
              "      <td>60</td>\n",
              "      <td>50</td>\n",
              "      <td>65</td>\n",
              "      <td>Red</td>\n",
              "      <td>Monster</td>\n",
              "      <td>0.61</td>\n",
              "      <td>8.5</td>\n",
              "      <td>bipedal_tailed</td>\n",
              "    </tr>\n",
              "    <tr>\n",
              "      <th>4</th>\n",
              "      <td>False</td>\n",
              "      <td>1</td>\n",
              "      <td>Fire</td>\n",
              "      <td>NaN</td>\n",
              "      <td>58</td>\n",
              "      <td>64</td>\n",
              "      <td>58</td>\n",
              "      <td>80</td>\n",
              "      <td>65</td>\n",
              "      <td>80</td>\n",
              "      <td>Red</td>\n",
              "      <td>Monster</td>\n",
              "      <td>1.09</td>\n",
              "      <td>19.0</td>\n",
              "      <td>bipedal_tailed</td>\n",
              "    </tr>\n",
              "  </tbody>\n",
              "</table>\n",
              "</div>"
            ],
            "text/plain": [
              "   isLegendary  Generation Type_1  ... Height_m  Weight_kg      Body_Style\n",
              "0        False           1  Grass  ...     0.71        6.9       quadruped\n",
              "1        False           1  Grass  ...     0.99       13.0       quadruped\n",
              "2        False           1  Grass  ...     2.01      100.0       quadruped\n",
              "3        False           1   Fire  ...     0.61        8.5  bipedal_tailed\n",
              "4        False           1   Fire  ...     1.09       19.0  bipedal_tailed\n",
              "\n",
              "[5 rows x 15 columns]"
            ]
          },
          "metadata": {
            "tags": []
          },
          "execution_count": 9
        }
      ]
    },
    {
      "cell_type": "code",
      "metadata": {
        "id": "NOiGZ6EsfoUr",
        "colab_type": "code",
        "colab": {}
      },
      "source": [
        "df['isLegendary'] = df['isLegendary'].astype(int)"
      ],
      "execution_count": 10,
      "outputs": []
    },
    {
      "cell_type": "code",
      "metadata": {
        "id": "wmm1Lq24gK2C",
        "colab_type": "code",
        "colab": {
          "base_uri": "https://localhost:8080/",
          "height": 198
        },
        "outputId": "fdb3dc7e-95d5-46dd-ee14-5801fc86674b"
      },
      "source": [
        "df.head()"
      ],
      "execution_count": 11,
      "outputs": [
        {
          "output_type": "execute_result",
          "data": {
            "text/html": [
              "<div>\n",
              "<style scoped>\n",
              "    .dataframe tbody tr th:only-of-type {\n",
              "        vertical-align: middle;\n",
              "    }\n",
              "\n",
              "    .dataframe tbody tr th {\n",
              "        vertical-align: top;\n",
              "    }\n",
              "\n",
              "    .dataframe thead th {\n",
              "        text-align: right;\n",
              "    }\n",
              "</style>\n",
              "<table border=\"1\" class=\"dataframe\">\n",
              "  <thead>\n",
              "    <tr style=\"text-align: right;\">\n",
              "      <th></th>\n",
              "      <th>isLegendary</th>\n",
              "      <th>Generation</th>\n",
              "      <th>Type_1</th>\n",
              "      <th>Type_2</th>\n",
              "      <th>HP</th>\n",
              "      <th>Attack</th>\n",
              "      <th>Defense</th>\n",
              "      <th>Sp_Atk</th>\n",
              "      <th>Sp_Def</th>\n",
              "      <th>Speed</th>\n",
              "      <th>Color</th>\n",
              "      <th>Egg_Group_1</th>\n",
              "      <th>Height_m</th>\n",
              "      <th>Weight_kg</th>\n",
              "      <th>Body_Style</th>\n",
              "    </tr>\n",
              "  </thead>\n",
              "  <tbody>\n",
              "    <tr>\n",
              "      <th>0</th>\n",
              "      <td>0</td>\n",
              "      <td>1</td>\n",
              "      <td>Grass</td>\n",
              "      <td>Poison</td>\n",
              "      <td>45</td>\n",
              "      <td>49</td>\n",
              "      <td>49</td>\n",
              "      <td>65</td>\n",
              "      <td>65</td>\n",
              "      <td>45</td>\n",
              "      <td>Green</td>\n",
              "      <td>Monster</td>\n",
              "      <td>0.71</td>\n",
              "      <td>6.9</td>\n",
              "      <td>quadruped</td>\n",
              "    </tr>\n",
              "    <tr>\n",
              "      <th>1</th>\n",
              "      <td>0</td>\n",
              "      <td>1</td>\n",
              "      <td>Grass</td>\n",
              "      <td>Poison</td>\n",
              "      <td>60</td>\n",
              "      <td>62</td>\n",
              "      <td>63</td>\n",
              "      <td>80</td>\n",
              "      <td>80</td>\n",
              "      <td>60</td>\n",
              "      <td>Green</td>\n",
              "      <td>Monster</td>\n",
              "      <td>0.99</td>\n",
              "      <td>13.0</td>\n",
              "      <td>quadruped</td>\n",
              "    </tr>\n",
              "    <tr>\n",
              "      <th>2</th>\n",
              "      <td>0</td>\n",
              "      <td>1</td>\n",
              "      <td>Grass</td>\n",
              "      <td>Poison</td>\n",
              "      <td>80</td>\n",
              "      <td>82</td>\n",
              "      <td>83</td>\n",
              "      <td>100</td>\n",
              "      <td>100</td>\n",
              "      <td>80</td>\n",
              "      <td>Green</td>\n",
              "      <td>Monster</td>\n",
              "      <td>2.01</td>\n",
              "      <td>100.0</td>\n",
              "      <td>quadruped</td>\n",
              "    </tr>\n",
              "    <tr>\n",
              "      <th>3</th>\n",
              "      <td>0</td>\n",
              "      <td>1</td>\n",
              "      <td>Fire</td>\n",
              "      <td>NaN</td>\n",
              "      <td>39</td>\n",
              "      <td>52</td>\n",
              "      <td>43</td>\n",
              "      <td>60</td>\n",
              "      <td>50</td>\n",
              "      <td>65</td>\n",
              "      <td>Red</td>\n",
              "      <td>Monster</td>\n",
              "      <td>0.61</td>\n",
              "      <td>8.5</td>\n",
              "      <td>bipedal_tailed</td>\n",
              "    </tr>\n",
              "    <tr>\n",
              "      <th>4</th>\n",
              "      <td>0</td>\n",
              "      <td>1</td>\n",
              "      <td>Fire</td>\n",
              "      <td>NaN</td>\n",
              "      <td>58</td>\n",
              "      <td>64</td>\n",
              "      <td>58</td>\n",
              "      <td>80</td>\n",
              "      <td>65</td>\n",
              "      <td>80</td>\n",
              "      <td>Red</td>\n",
              "      <td>Monster</td>\n",
              "      <td>1.09</td>\n",
              "      <td>19.0</td>\n",
              "      <td>bipedal_tailed</td>\n",
              "    </tr>\n",
              "  </tbody>\n",
              "</table>\n",
              "</div>"
            ],
            "text/plain": [
              "   isLegendary  Generation Type_1  ... Height_m  Weight_kg      Body_Style\n",
              "0            0           1  Grass  ...     0.71        6.9       quadruped\n",
              "1            0           1  Grass  ...     0.99       13.0       quadruped\n",
              "2            0           1  Grass  ...     2.01      100.0       quadruped\n",
              "3            0           1   Fire  ...     0.61        8.5  bipedal_tailed\n",
              "4            0           1   Fire  ...     1.09       19.0  bipedal_tailed\n",
              "\n",
              "[5 rows x 15 columns]"
            ]
          },
          "metadata": {
            "tags": []
          },
          "execution_count": 11
        }
      ]
    },
    {
      "cell_type": "markdown",
      "metadata": {
        "id": "XYHzNDJOgsFi",
        "colab_type": "text"
      },
      "source": [
        "There are a few other categories that we'll need to convert as well. Let's look at \"Type_1\" as an example. Pokémon have associated elements, such as water and fire. Our first intuition at converting these to numbers could be to just assign a number to each category, such as: Water = 1, Fire = 2, Grass = 3 and so on. This isn't a good idea because these numerical assignments aren't ordinal; they don't lie on a scale. By doing this, we would be implying that Water is closer to Fire than it is Grass, which doesn't really make sense."
      ]
    },
    {
      "cell_type": "code",
      "metadata": {
        "id": "8vWi5tyUgtcT",
        "colab_type": "code",
        "colab": {}
      },
      "source": [
        "def dummy_creation(df, dummy_categories):\n",
        "    for i in dummy_categories:\n",
        "        df_dummy = pd.get_dummies(df[i])\n",
        "        df = pd.concat([df,df_dummy],axis=1)\n",
        "        df = df.drop(i, axis=1)\n",
        "    return(df)"
      ],
      "execution_count": 12,
      "outputs": []
    },
    {
      "cell_type": "code",
      "metadata": {
        "id": "4D1UBZluh_vw",
        "colab_type": "code",
        "colab": {
          "base_uri": "https://localhost:8080/",
          "height": 35
        },
        "outputId": "c79ad430-7530-4f01-bd7e-718881d99f94"
      },
      "source": [
        "sum(df.columns.value_counts())"
      ],
      "execution_count": 20,
      "outputs": [
        {
          "output_type": "execute_result",
          "data": {
            "text/plain": [
              "15"
            ]
          },
          "metadata": {
            "tags": []
          },
          "execution_count": 20
        }
      ]
    },
    {
      "cell_type": "code",
      "metadata": {
        "id": "mCAPqwMqhv3N",
        "colab_type": "code",
        "colab": {}
      },
      "source": [
        "df = dummy_creation(df, ['Egg_Group_1', 'Body_Style', 'Color','Type_1', 'Type_2'])"
      ],
      "execution_count": 21,
      "outputs": []
    },
    {
      "cell_type": "code",
      "metadata": {
        "id": "1-iSWOtgiRsE",
        "colab_type": "code",
        "colab": {
          "base_uri": "https://localhost:8080/",
          "height": 35
        },
        "outputId": "0d946603-36c4-4dfb-ceb2-820f615f79f4"
      },
      "source": [
        "sum(df.columns.value_counts())"
      ],
      "execution_count": 22,
      "outputs": [
        {
          "output_type": "execute_result",
          "data": {
            "text/plain": [
              "85"
            ]
          },
          "metadata": {
            "tags": []
          },
          "execution_count": 22
        }
      ]
    },
    {
      "cell_type": "markdown",
      "metadata": {
        "id": "Rve6kr8GijSf",
        "colab_type": "text"
      },
      "source": [
        "Split and Normalize Data"
      ]
    },
    {
      "cell_type": "code",
      "metadata": {
        "id": "qGrkcU7LiSKB",
        "colab_type": "code",
        "colab": {
          "base_uri": "https://localhost:8080/",
          "height": 35
        },
        "outputId": "f06f7970-2d19-4f69-d56e-5f775941a797"
      },
      "source": [
        "df.Generation.nunique()"
      ],
      "execution_count": 26,
      "outputs": [
        {
          "output_type": "execute_result",
          "data": {
            "text/plain": [
              "6"
            ]
          },
          "metadata": {
            "tags": []
          },
          "execution_count": 26
        }
      ]
    },
    {
      "cell_type": "code",
      "metadata": {
        "id": "k7uQH1tii0oN",
        "colab_type": "code",
        "colab": {}
      },
      "source": [
        "def train_test_splitter(DataFrame, column):\n",
        "    df_train = DataFrame.loc[df[column] != 1]\n",
        "    df_test = DataFrame.loc[df[column] == 1]\n",
        "\n",
        "    df_train = df_train.drop(column, axis=1)\n",
        "    df_test = df_test.drop(column, axis=1)\n",
        "\n",
        "    return(df_train, df_test)\n",
        "\n",
        "df_train, df_test = train_test_splitter(df, 'Generation')"
      ],
      "execution_count": 27,
      "outputs": []
    },
    {
      "cell_type": "markdown",
      "metadata": {
        "id": "-cscqMoqlO8c",
        "colab_type": "text"
      },
      "source": [
        "This function takes any Pokémon whose \"Generation\" label is equal to 1 and putting it into the test dataset, and putting everyone else in the training dataset. It then drops the Generation category from the dataset."
      ]
    },
    {
      "cell_type": "code",
      "metadata": {
        "id": "sId-B3tElVDq",
        "colab_type": "code",
        "colab": {}
      },
      "source": [
        "def label_delineator(df_train, df_test, label):\n",
        "    \n",
        "    train_data = df_train.drop(label, axis=1).values\n",
        "    train_labels = df_train[label].values\n",
        "    test_data = df_test.drop(label,axis=1).values\n",
        "    test_labels = df_test[label].values\n",
        "    return(train_data, train_labels, test_data, test_labels)"
      ],
      "execution_count": 28,
      "outputs": []
    },
    {
      "cell_type": "markdown",
      "metadata": {
        "id": "rOovDR11lX4K",
        "colab_type": "text"
      },
      "source": [
        "This function extracts the data from the DataFrame and puts it into arrays that TensorFlow can understand with.values. We then have the four groups of data:"
      ]
    },
    {
      "cell_type": "code",
      "metadata": {
        "id": "mn345DDjlZL4",
        "colab_type": "code",
        "colab": {}
      },
      "source": [
        "train_data, train_labels, test_data, test_labels = label_delineator(df_train, df_test, 'isLegendary')"
      ],
      "execution_count": 29,
      "outputs": []
    },
    {
      "cell_type": "markdown",
      "metadata": {
        "id": "bLM68YgDljXR",
        "colab_type": "text"
      },
      "source": [
        "now that we have our labels extracted from the data, let's normalize the data so everything is on the same scale:"
      ]
    },
    {
      "cell_type": "code",
      "metadata": {
        "id": "IgB8YNGJlmET",
        "colab_type": "code",
        "colab": {}
      },
      "source": [
        "def data_normalizer(train_data, test_data):\n",
        "    train_data = preprocessing.MinMaxScaler().fit_transform(train_data)\n",
        "    test_data = preprocessing.MinMaxScaler().fit_transform(test_data)\n",
        "    return(train_data, test_data)\n",
        "\n",
        "train_data, test_data = data_normalizer(train_data, test_data)"
      ],
      "execution_count": null,
      "outputs": []
    },
    {
      "cell_type": "code",
      "metadata": {
        "id": "Mol_FIMmmRv7",
        "colab_type": "code",
        "colab": {}
      },
      "source": [
        "from sklearn.preprocessing import MinMaxScaler"
      ],
      "execution_count": 30,
      "outputs": []
    },
    {
      "cell_type": "code",
      "metadata": {
        "id": "fozAlsdSmSPL",
        "colab_type": "code",
        "colab": {}
      },
      "source": [
        "data = [[-1, 2], [-0.5, 6], [0, 10], [1, 18]]"
      ],
      "execution_count": 31,
      "outputs": []
    },
    {
      "cell_type": "code",
      "metadata": {
        "id": "EqrSRUFdmUql",
        "colab_type": "code",
        "colab": {
          "base_uri": "https://localhost:8080/",
          "height": 35
        },
        "outputId": "0a65c5c3-c206-4ae9-d20f-5f6b80bbdb10"
      },
      "source": [
        "data"
      ],
      "execution_count": 32,
      "outputs": [
        {
          "output_type": "execute_result",
          "data": {
            "text/plain": [
              "[[-1, 2], [-0.5, 6], [0, 10], [1, 18]]"
            ]
          },
          "metadata": {
            "tags": []
          },
          "execution_count": 32
        }
      ]
    },
    {
      "cell_type": "code",
      "metadata": {
        "id": "hOQ4nZ_PmVdD",
        "colab_type": "code",
        "colab": {
          "base_uri": "https://localhost:8080/",
          "height": 35
        },
        "outputId": "945d0843-217b-4675-f4cb-118c4b43943c"
      },
      "source": [
        "scaler = MinMaxScaler()\n",
        "scaler"
      ],
      "execution_count": 34,
      "outputs": [
        {
          "output_type": "execute_result",
          "data": {
            "text/plain": [
              "MinMaxScaler(copy=True, feature_range=(0, 1))"
            ]
          },
          "metadata": {
            "tags": []
          },
          "execution_count": 34
        }
      ]
    },
    {
      "cell_type": "markdown",
      "metadata": {
        "id": "ynOZWTkUm4Z8",
        "colab_type": "text"
      },
      "source": [
        "\n",
        "\n",
        "```\n",
        "# X_std = (X - X.min(axis=0)) / (X.max(axis=0) - X.min(axis=0))\n",
        "X_scaled = X_std * (max - min) + min\n",
        "```\n",
        "\n"
      ]
    },
    {
      "cell_type": "code",
      "metadata": {
        "id": "BAjnwJ7hmX-3",
        "colab_type": "code",
        "colab": {
          "base_uri": "https://localhost:8080/",
          "height": 145
        },
        "outputId": "c66e3d8b-b0e9-4e4c-8dec-0fbe1bbb6cc1"
      },
      "source": [
        "print(scaler.fit(data))\n",
        "print(scaler.data_max_)\n",
        "print(scaler.data_min_)\n",
        "print(scaler.fit_transform(data))"
      ],
      "execution_count": 39,
      "outputs": [
        {
          "output_type": "stream",
          "text": [
            "MinMaxScaler(copy=True, feature_range=(0, 1))\n",
            "[ 1. 18.]\n",
            "[-1.  2.]\n",
            "[[0.   0.  ]\n",
            " [0.25 0.25]\n",
            " [0.5  0.5 ]\n",
            " [1.   1.  ]]\n"
          ],
          "name": "stdout"
        }
      ]
    },
    {
      "cell_type": "markdown",
      "metadata": {
        "id": "QU3fxPWBncM-",
        "colab_type": "text"
      },
      "source": [
        "Now we can get to the machine learning! Let's create the model using Keras. Keras is an API for Tensorflow. We have a few options for doing this, but we'll keep it simple for now. A model is built upon layers. We'll add two fully connected neural layers."
      ]
    },
    {
      "cell_type": "code",
      "metadata": {
        "id": "thodI6p0meIt",
        "colab_type": "code",
        "colab": {}
      },
      "source": [
        "length = train_data.shape[1]\n",
        "\n",
        "model = keras.Sequential()\n",
        "model.add(keras.layers.Dense(500, activation='relu', input_shape=[length,]))\n",
        "model.add(keras.layers.Dense(2, activation='softmax'))"
      ],
      "execution_count": 40,
      "outputs": []
    },
    {
      "cell_type": "markdown",
      "metadata": {
        "id": "nweAP8uLn_HO",
        "colab_type": "text"
      },
      "source": [
        "The number associated with the layer is the number of neurons in it. The first layer we'll use is a 'ReLU' (Rectified Linear Unit)' activation function. Since this is also the first layer, we need to specify input_size, which is the shape of an entry in our dataset.\n",
        "\n",
        "After that, we'll finish with a softmax layer. Softmax is a type of logistic regression done for situations with multiple cases, like our 2 possible groups: 'Legendary' and 'Not Legendary'. With this we delineate the possible identities of the Pokémon into 2 probability groups corresponding to the possible labels:"
      ]
    },
    {
      "cell_type": "markdown",
      "metadata": {
        "id": "ppyq002boIZA",
        "colab_type": "text"
      },
      "source": [
        "\n",
        "Once we have decided on the specifics of our model, we need to do two processes: Compile the model and fit the data to the model.\n",
        "\n",
        "We can compile the model like so:\n",
        "\n"
      ]
    },
    {
      "cell_type": "code",
      "metadata": {
        "id": "U_tUIVdmoAGV",
        "colab_type": "code",
        "colab": {}
      },
      "source": [
        "model.compile(optimizer='sgd', loss='sparse_categorical_crossentropy', metrics=['accuracy'])"
      ],
      "execution_count": 41,
      "outputs": []
    },
    {
      "cell_type": "markdown",
      "metadata": {
        "id": "4mNeTXW8ole-",
        "colab_type": "text"
      },
      "source": [
        "Here we're just feeding three parameters to model.compile. We pick an optimizer, which determines how the model is updated as it gains information, a loss function, which measures how accurate the model is as it trains, and metrics, which specifies which information it provides so we can analyze the model.\n",
        "\n",
        "The optimizer we're using is the Stochastic Gradient Descent (SGD) optimization algorithm, but there are others available. For our loss we're using sparse_categorical_crossentropy. If our values were one-hot encoded, we would want to use \"categorial_crossentropy\" instead."
      ]
    },
    {
      "cell_type": "code",
      "metadata": {
        "id": "q0tj1NOLomdq",
        "colab_type": "code",
        "colab": {
          "base_uri": "https://localhost:8080/",
          "height": 1000
        },
        "outputId": "0d2e8eb6-aaff-4b91-93e7-a574e69e14d2"
      },
      "source": [
        "#Then we have the model fit our training data:\n",
        "\n",
        "model.fit(train_data, train_labels, epochs=400)"
      ],
      "execution_count": 42,
      "outputs": [
        {
          "output_type": "stream",
          "text": [
            "Epoch 1/400\n",
            "18/18 [==============================] - 0s 2ms/step - loss: 12.6689 - accuracy: 0.8386\n",
            "Epoch 2/400\n",
            "18/18 [==============================] - 0s 2ms/step - loss: 0.3801 - accuracy: 0.9298\n",
            "Epoch 3/400\n",
            "18/18 [==============================] - 0s 2ms/step - loss: 0.2483 - accuracy: 0.9298\n",
            "Epoch 4/400\n",
            "18/18 [==============================] - 0s 2ms/step - loss: 0.2351 - accuracy: 0.9351\n",
            "Epoch 5/400\n",
            "18/18 [==============================] - 0s 2ms/step - loss: 0.2733 - accuracy: 0.9281\n",
            "Epoch 6/400\n",
            "18/18 [==============================] - 0s 1ms/step - loss: 0.2099 - accuracy: 0.9333\n",
            "Epoch 7/400\n",
            "18/18 [==============================] - 0s 2ms/step - loss: 0.1969 - accuracy: 0.9439\n",
            "Epoch 8/400\n",
            "18/18 [==============================] - 0s 1ms/step - loss: 0.2226 - accuracy: 0.9368\n",
            "Epoch 9/400\n",
            "18/18 [==============================] - 0s 2ms/step - loss: 0.2096 - accuracy: 0.9368\n",
            "Epoch 10/400\n",
            "18/18 [==============================] - 0s 2ms/step - loss: 0.2178 - accuracy: 0.9439\n",
            "Epoch 11/400\n",
            "18/18 [==============================] - 0s 1ms/step - loss: 0.1793 - accuracy: 0.9474\n",
            "Epoch 12/400\n",
            "18/18 [==============================] - 0s 1ms/step - loss: 0.2298 - accuracy: 0.9368\n",
            "Epoch 13/400\n",
            "18/18 [==============================] - 0s 2ms/step - loss: 0.2134 - accuracy: 0.9333\n",
            "Epoch 14/400\n",
            "18/18 [==============================] - 0s 2ms/step - loss: 0.1984 - accuracy: 0.9421\n",
            "Epoch 15/400\n",
            "18/18 [==============================] - 0s 1ms/step - loss: 0.2005 - accuracy: 0.9368\n",
            "Epoch 16/400\n",
            "18/18 [==============================] - 0s 2ms/step - loss: 0.2135 - accuracy: 0.9386\n",
            "Epoch 17/400\n",
            "18/18 [==============================] - 0s 2ms/step - loss: 0.1889 - accuracy: 0.9439\n",
            "Epoch 18/400\n",
            "18/18 [==============================] - 0s 2ms/step - loss: 0.1835 - accuracy: 0.9386\n",
            "Epoch 19/400\n",
            "18/18 [==============================] - 0s 2ms/step - loss: 0.1866 - accuracy: 0.9281\n",
            "Epoch 20/400\n",
            "18/18 [==============================] - 0s 1ms/step - loss: 0.1825 - accuracy: 0.9368\n",
            "Epoch 21/400\n",
            "18/18 [==============================] - 0s 2ms/step - loss: 0.1927 - accuracy: 0.9316\n",
            "Epoch 22/400\n",
            "18/18 [==============================] - 0s 2ms/step - loss: 0.1919 - accuracy: 0.9333\n",
            "Epoch 23/400\n",
            "18/18 [==============================] - 0s 1ms/step - loss: 0.1583 - accuracy: 0.9474\n",
            "Epoch 24/400\n",
            "18/18 [==============================] - 0s 1ms/step - loss: 0.1721 - accuracy: 0.9456\n",
            "Epoch 25/400\n",
            "18/18 [==============================] - 0s 1ms/step - loss: 0.1739 - accuracy: 0.9439\n",
            "Epoch 26/400\n",
            "18/18 [==============================] - 0s 2ms/step - loss: 0.1684 - accuracy: 0.9386\n",
            "Epoch 27/400\n",
            "18/18 [==============================] - 0s 2ms/step - loss: 0.1603 - accuracy: 0.9421\n",
            "Epoch 28/400\n",
            "18/18 [==============================] - 0s 1ms/step - loss: 0.1589 - accuracy: 0.9316\n",
            "Epoch 29/400\n",
            "18/18 [==============================] - 0s 1ms/step - loss: 0.1568 - accuracy: 0.9474\n",
            "Epoch 30/400\n",
            "18/18 [==============================] - 0s 2ms/step - loss: 0.1551 - accuracy: 0.9509\n",
            "Epoch 31/400\n",
            "18/18 [==============================] - 0s 1ms/step - loss: 0.1481 - accuracy: 0.9526\n",
            "Epoch 32/400\n",
            "18/18 [==============================] - 0s 1ms/step - loss: 0.1648 - accuracy: 0.9491\n",
            "Epoch 33/400\n",
            "18/18 [==============================] - 0s 2ms/step - loss: 0.1465 - accuracy: 0.9509\n",
            "Epoch 34/400\n",
            "18/18 [==============================] - 0s 2ms/step - loss: 0.1667 - accuracy: 0.9421\n",
            "Epoch 35/400\n",
            "18/18 [==============================] - 0s 1ms/step - loss: 0.1371 - accuracy: 0.9509\n",
            "Epoch 36/400\n",
            "18/18 [==============================] - 0s 2ms/step - loss: 0.1681 - accuracy: 0.9421\n",
            "Epoch 37/400\n",
            "18/18 [==============================] - 0s 2ms/step - loss: 0.1665 - accuracy: 0.9421\n",
            "Epoch 38/400\n",
            "18/18 [==============================] - 0s 1ms/step - loss: 0.1397 - accuracy: 0.9509\n",
            "Epoch 39/400\n",
            "18/18 [==============================] - 0s 1ms/step - loss: 0.1309 - accuracy: 0.9509\n",
            "Epoch 40/400\n",
            "18/18 [==============================] - 0s 2ms/step - loss: 0.1503 - accuracy: 0.9474\n",
            "Epoch 41/400\n",
            "18/18 [==============================] - 0s 2ms/step - loss: 0.1532 - accuracy: 0.9544\n",
            "Epoch 42/400\n",
            "18/18 [==============================] - 0s 1ms/step - loss: 0.1546 - accuracy: 0.9386\n",
            "Epoch 43/400\n",
            "18/18 [==============================] - 0s 2ms/step - loss: 0.1515 - accuracy: 0.9474\n",
            "Epoch 44/400\n",
            "18/18 [==============================] - 0s 1ms/step - loss: 0.1598 - accuracy: 0.9421\n",
            "Epoch 45/400\n",
            "18/18 [==============================] - 0s 2ms/step - loss: 0.1543 - accuracy: 0.9456\n",
            "Epoch 46/400\n",
            "18/18 [==============================] - 0s 2ms/step - loss: 0.1976 - accuracy: 0.9263\n",
            "Epoch 47/400\n",
            "18/18 [==============================] - 0s 2ms/step - loss: 0.1474 - accuracy: 0.9474\n",
            "Epoch 48/400\n",
            "18/18 [==============================] - 0s 2ms/step - loss: 0.1343 - accuracy: 0.9474\n",
            "Epoch 49/400\n",
            "18/18 [==============================] - 0s 2ms/step - loss: 0.1449 - accuracy: 0.9509\n",
            "Epoch 50/400\n",
            "18/18 [==============================] - 0s 2ms/step - loss: 0.1560 - accuracy: 0.9404\n",
            "Epoch 51/400\n",
            "18/18 [==============================] - 0s 2ms/step - loss: 0.1346 - accuracy: 0.9386\n",
            "Epoch 52/400\n",
            "18/18 [==============================] - 0s 2ms/step - loss: 0.1333 - accuracy: 0.9544\n",
            "Epoch 53/400\n",
            "18/18 [==============================] - 0s 2ms/step - loss: 0.1451 - accuracy: 0.9456\n",
            "Epoch 54/400\n",
            "18/18 [==============================] - 0s 2ms/step - loss: 0.1488 - accuracy: 0.9509\n",
            "Epoch 55/400\n",
            "18/18 [==============================] - 0s 1ms/step - loss: 0.1438 - accuracy: 0.9596\n",
            "Epoch 56/400\n",
            "18/18 [==============================] - 0s 1ms/step - loss: 0.1202 - accuracy: 0.9544\n",
            "Epoch 57/400\n",
            "18/18 [==============================] - 0s 2ms/step - loss: 0.1142 - accuracy: 0.9544\n",
            "Epoch 58/400\n",
            "18/18 [==============================] - 0s 2ms/step - loss: 0.1163 - accuracy: 0.9526\n",
            "Epoch 59/400\n",
            "18/18 [==============================] - 0s 1ms/step - loss: 0.1372 - accuracy: 0.9351\n",
            "Epoch 60/400\n",
            "18/18 [==============================] - 0s 1ms/step - loss: 0.1255 - accuracy: 0.9491\n",
            "Epoch 61/400\n",
            "18/18 [==============================] - 0s 2ms/step - loss: 0.1328 - accuracy: 0.9544\n",
            "Epoch 62/400\n",
            "18/18 [==============================] - 0s 1ms/step - loss: 0.1278 - accuracy: 0.9596\n",
            "Epoch 63/400\n",
            "18/18 [==============================] - 0s 2ms/step - loss: 0.1163 - accuracy: 0.9561\n",
            "Epoch 64/400\n",
            "18/18 [==============================] - 0s 2ms/step - loss: 0.1383 - accuracy: 0.9368\n",
            "Epoch 65/400\n",
            "18/18 [==============================] - 0s 1ms/step - loss: 0.1215 - accuracy: 0.9526\n",
            "Epoch 66/400\n",
            "18/18 [==============================] - 0s 2ms/step - loss: 0.1113 - accuracy: 0.9561\n",
            "Epoch 67/400\n",
            "18/18 [==============================] - 0s 2ms/step - loss: 0.1395 - accuracy: 0.9404\n",
            "Epoch 68/400\n",
            "18/18 [==============================] - 0s 2ms/step - loss: 0.1273 - accuracy: 0.9596\n",
            "Epoch 69/400\n",
            "18/18 [==============================] - 0s 2ms/step - loss: 0.1427 - accuracy: 0.9456\n",
            "Epoch 70/400\n",
            "18/18 [==============================] - 0s 1ms/step - loss: 0.1751 - accuracy: 0.9404\n",
            "Epoch 71/400\n",
            "18/18 [==============================] - 0s 1ms/step - loss: 0.1558 - accuracy: 0.9474\n",
            "Epoch 72/400\n",
            "18/18 [==============================] - 0s 1ms/step - loss: 0.1284 - accuracy: 0.9439\n",
            "Epoch 73/400\n",
            "18/18 [==============================] - 0s 1ms/step - loss: 0.1298 - accuracy: 0.9456\n",
            "Epoch 74/400\n",
            "18/18 [==============================] - 0s 1ms/step - loss: 0.1104 - accuracy: 0.9614\n",
            "Epoch 75/400\n",
            "18/18 [==============================] - 0s 1ms/step - loss: 0.1236 - accuracy: 0.9491\n",
            "Epoch 76/400\n",
            "18/18 [==============================] - 0s 1ms/step - loss: 0.1025 - accuracy: 0.9667\n",
            "Epoch 77/400\n",
            "18/18 [==============================] - 0s 1ms/step - loss: 0.1252 - accuracy: 0.9526\n",
            "Epoch 78/400\n",
            "18/18 [==============================] - 0s 1ms/step - loss: 0.1017 - accuracy: 0.9579\n",
            "Epoch 79/400\n",
            "18/18 [==============================] - 0s 1ms/step - loss: 0.1121 - accuracy: 0.9579\n",
            "Epoch 80/400\n",
            "18/18 [==============================] - 0s 1ms/step - loss: 0.0986 - accuracy: 0.9561\n",
            "Epoch 81/400\n",
            "18/18 [==============================] - 0s 1ms/step - loss: 0.1118 - accuracy: 0.9596\n",
            "Epoch 82/400\n",
            "18/18 [==============================] - 0s 2ms/step - loss: 0.1237 - accuracy: 0.9561\n",
            "Epoch 83/400\n",
            "18/18 [==============================] - 0s 2ms/step - loss: 0.1137 - accuracy: 0.9491\n",
            "Epoch 84/400\n",
            "18/18 [==============================] - 0s 1ms/step - loss: 0.1570 - accuracy: 0.9439\n",
            "Epoch 85/400\n",
            "18/18 [==============================] - 0s 2ms/step - loss: 0.1316 - accuracy: 0.9526\n",
            "Epoch 86/400\n",
            "18/18 [==============================] - 0s 2ms/step - loss: 0.1160 - accuracy: 0.9561\n",
            "Epoch 87/400\n",
            "18/18 [==============================] - 0s 1ms/step - loss: 0.1313 - accuracy: 0.9509\n",
            "Epoch 88/400\n",
            "18/18 [==============================] - 0s 2ms/step - loss: 0.1514 - accuracy: 0.9439\n",
            "Epoch 89/400\n",
            "18/18 [==============================] - 0s 1ms/step - loss: 0.1278 - accuracy: 0.9491\n",
            "Epoch 90/400\n",
            "18/18 [==============================] - 0s 2ms/step - loss: 0.1164 - accuracy: 0.9561\n",
            "Epoch 91/400\n",
            "18/18 [==============================] - 0s 2ms/step - loss: 0.1416 - accuracy: 0.9386\n",
            "Epoch 92/400\n",
            "18/18 [==============================] - 0s 2ms/step - loss: 0.1305 - accuracy: 0.9526\n",
            "Epoch 93/400\n",
            "18/18 [==============================] - 0s 1ms/step - loss: 0.1156 - accuracy: 0.9526\n",
            "Epoch 94/400\n",
            "18/18 [==============================] - 0s 2ms/step - loss: 0.1072 - accuracy: 0.9614\n",
            "Epoch 95/400\n",
            "18/18 [==============================] - 0s 2ms/step - loss: 0.1033 - accuracy: 0.9561\n",
            "Epoch 96/400\n",
            "18/18 [==============================] - 0s 2ms/step - loss: 0.0994 - accuracy: 0.9561\n",
            "Epoch 97/400\n",
            "18/18 [==============================] - 0s 1ms/step - loss: 0.1027 - accuracy: 0.9509\n",
            "Epoch 98/400\n",
            "18/18 [==============================] - 0s 1ms/step - loss: 0.1644 - accuracy: 0.9263\n",
            "Epoch 99/400\n",
            "18/18 [==============================] - 0s 2ms/step - loss: 0.1181 - accuracy: 0.9596\n",
            "Epoch 100/400\n",
            "18/18 [==============================] - 0s 1ms/step - loss: 0.1093 - accuracy: 0.9579\n",
            "Epoch 101/400\n",
            "18/18 [==============================] - 0s 2ms/step - loss: 0.1137 - accuracy: 0.9491\n",
            "Epoch 102/400\n",
            "18/18 [==============================] - 0s 2ms/step - loss: 0.1334 - accuracy: 0.9439\n",
            "Epoch 103/400\n",
            "18/18 [==============================] - 0s 2ms/step - loss: 0.1040 - accuracy: 0.9579\n",
            "Epoch 104/400\n",
            "18/18 [==============================] - 0s 2ms/step - loss: 0.1102 - accuracy: 0.9561\n",
            "Epoch 105/400\n",
            "18/18 [==============================] - 0s 1ms/step - loss: 0.1011 - accuracy: 0.9614\n",
            "Epoch 106/400\n",
            "18/18 [==============================] - 0s 1ms/step - loss: 0.1040 - accuracy: 0.9649\n",
            "Epoch 107/400\n",
            "18/18 [==============================] - 0s 1ms/step - loss: 0.0976 - accuracy: 0.9596\n",
            "Epoch 108/400\n",
            "18/18 [==============================] - 0s 2ms/step - loss: 0.0955 - accuracy: 0.9632\n",
            "Epoch 109/400\n",
            "18/18 [==============================] - 0s 2ms/step - loss: 0.1228 - accuracy: 0.9579\n",
            "Epoch 110/400\n",
            "18/18 [==============================] - 0s 2ms/step - loss: 0.1110 - accuracy: 0.9526\n",
            "Epoch 111/400\n",
            "18/18 [==============================] - 0s 1ms/step - loss: 0.1268 - accuracy: 0.9544\n",
            "Epoch 112/400\n",
            "18/18 [==============================] - 0s 2ms/step - loss: 0.0933 - accuracy: 0.9667\n",
            "Epoch 113/400\n",
            "18/18 [==============================] - 0s 1ms/step - loss: 0.0901 - accuracy: 0.9649\n",
            "Epoch 114/400\n",
            "18/18 [==============================] - 0s 1ms/step - loss: 0.1119 - accuracy: 0.9509\n",
            "Epoch 115/400\n",
            "18/18 [==============================] - 0s 2ms/step - loss: 0.1241 - accuracy: 0.9491\n",
            "Epoch 116/400\n",
            "18/18 [==============================] - 0s 2ms/step - loss: 0.1182 - accuracy: 0.9509\n",
            "Epoch 117/400\n",
            "18/18 [==============================] - 0s 2ms/step - loss: 0.1070 - accuracy: 0.9544\n",
            "Epoch 118/400\n",
            "18/18 [==============================] - 0s 1ms/step - loss: 0.0948 - accuracy: 0.9614\n",
            "Epoch 119/400\n",
            "18/18 [==============================] - 0s 1ms/step - loss: 0.1153 - accuracy: 0.9579\n",
            "Epoch 120/400\n",
            "18/18 [==============================] - 0s 1ms/step - loss: 0.0992 - accuracy: 0.9684\n",
            "Epoch 121/400\n",
            "18/18 [==============================] - 0s 1ms/step - loss: 0.0999 - accuracy: 0.9649\n",
            "Epoch 122/400\n",
            "18/18 [==============================] - 0s 1ms/step - loss: 0.1061 - accuracy: 0.9632\n",
            "Epoch 123/400\n",
            "18/18 [==============================] - 0s 2ms/step - loss: 0.0940 - accuracy: 0.9632\n",
            "Epoch 124/400\n",
            "18/18 [==============================] - 0s 1ms/step - loss: 0.1099 - accuracy: 0.9561\n",
            "Epoch 125/400\n",
            "18/18 [==============================] - 0s 2ms/step - loss: 0.1580 - accuracy: 0.9386\n",
            "Epoch 126/400\n",
            "18/18 [==============================] - 0s 2ms/step - loss: 0.1072 - accuracy: 0.9561\n",
            "Epoch 127/400\n",
            "18/18 [==============================] - 0s 1ms/step - loss: 0.0874 - accuracy: 0.9649\n",
            "Epoch 128/400\n",
            "18/18 [==============================] - 0s 1ms/step - loss: 0.0969 - accuracy: 0.9614\n",
            "Epoch 129/400\n",
            "18/18 [==============================] - 0s 2ms/step - loss: 0.0961 - accuracy: 0.9509\n",
            "Epoch 130/400\n",
            "18/18 [==============================] - 0s 2ms/step - loss: 0.1013 - accuracy: 0.9579\n",
            "Epoch 131/400\n",
            "18/18 [==============================] - 0s 1ms/step - loss: 0.0922 - accuracy: 0.9596\n",
            "Epoch 132/400\n",
            "18/18 [==============================] - 0s 2ms/step - loss: 0.1161 - accuracy: 0.9632\n",
            "Epoch 133/400\n",
            "18/18 [==============================] - 0s 1ms/step - loss: 0.1314 - accuracy: 0.9456\n",
            "Epoch 134/400\n",
            "18/18 [==============================] - 0s 1ms/step - loss: 0.0982 - accuracy: 0.9649\n",
            "Epoch 135/400\n",
            "18/18 [==============================] - 0s 1ms/step - loss: 0.0825 - accuracy: 0.9649\n",
            "Epoch 136/400\n",
            "18/18 [==============================] - 0s 1ms/step - loss: 0.1688 - accuracy: 0.9333\n",
            "Epoch 137/400\n",
            "18/18 [==============================] - 0s 2ms/step - loss: 0.1146 - accuracy: 0.9509\n",
            "Epoch 138/400\n",
            "18/18 [==============================] - 0s 1ms/step - loss: 0.1269 - accuracy: 0.9509\n",
            "Epoch 139/400\n",
            "18/18 [==============================] - 0s 2ms/step - loss: 0.1084 - accuracy: 0.9614\n",
            "Epoch 140/400\n",
            "18/18 [==============================] - 0s 2ms/step - loss: 0.1054 - accuracy: 0.9509\n",
            "Epoch 141/400\n",
            "18/18 [==============================] - 0s 2ms/step - loss: 0.1041 - accuracy: 0.9632\n",
            "Epoch 142/400\n",
            "18/18 [==============================] - 0s 1ms/step - loss: 0.0969 - accuracy: 0.9649\n",
            "Epoch 143/400\n",
            "18/18 [==============================] - 0s 2ms/step - loss: 0.0941 - accuracy: 0.9684\n",
            "Epoch 144/400\n",
            "18/18 [==============================] - 0s 2ms/step - loss: 0.1178 - accuracy: 0.9579\n",
            "Epoch 145/400\n",
            "18/18 [==============================] - 0s 2ms/step - loss: 0.0838 - accuracy: 0.9719\n",
            "Epoch 146/400\n",
            "18/18 [==============================] - 0s 1ms/step - loss: 0.1020 - accuracy: 0.9561\n",
            "Epoch 147/400\n",
            "18/18 [==============================] - 0s 1ms/step - loss: 0.0898 - accuracy: 0.9632\n",
            "Epoch 148/400\n",
            "18/18 [==============================] - 0s 1ms/step - loss: 0.0948 - accuracy: 0.9596\n",
            "Epoch 149/400\n",
            "18/18 [==============================] - 0s 2ms/step - loss: 0.0942 - accuracy: 0.9614\n",
            "Epoch 150/400\n",
            "18/18 [==============================] - 0s 2ms/step - loss: 0.1116 - accuracy: 0.9614\n",
            "Epoch 151/400\n",
            "18/18 [==============================] - 0s 2ms/step - loss: 0.1179 - accuracy: 0.9579\n",
            "Epoch 152/400\n",
            "18/18 [==============================] - 0s 1ms/step - loss: 0.1040 - accuracy: 0.9649\n",
            "Epoch 153/400\n",
            "18/18 [==============================] - 0s 2ms/step - loss: 0.1079 - accuracy: 0.9544\n",
            "Epoch 154/400\n",
            "18/18 [==============================] - 0s 1ms/step - loss: 0.1277 - accuracy: 0.9561\n",
            "Epoch 155/400\n",
            "18/18 [==============================] - 0s 2ms/step - loss: 0.1228 - accuracy: 0.9491\n",
            "Epoch 156/400\n",
            "18/18 [==============================] - 0s 2ms/step - loss: 0.1189 - accuracy: 0.9439\n",
            "Epoch 157/400\n",
            "18/18 [==============================] - 0s 2ms/step - loss: 0.0857 - accuracy: 0.9719\n",
            "Epoch 158/400\n",
            "18/18 [==============================] - 0s 1ms/step - loss: 0.0889 - accuracy: 0.9702\n",
            "Epoch 159/400\n",
            "18/18 [==============================] - 0s 2ms/step - loss: 0.1020 - accuracy: 0.9509\n",
            "Epoch 160/400\n",
            "18/18 [==============================] - 0s 1ms/step - loss: 0.0907 - accuracy: 0.9649\n",
            "Epoch 161/400\n",
            "18/18 [==============================] - 0s 2ms/step - loss: 0.0874 - accuracy: 0.9737\n",
            "Epoch 162/400\n",
            "18/18 [==============================] - 0s 1ms/step - loss: 0.0942 - accuracy: 0.9614\n",
            "Epoch 163/400\n",
            "18/18 [==============================] - 0s 1ms/step - loss: 0.0996 - accuracy: 0.9614\n",
            "Epoch 164/400\n",
            "18/18 [==============================] - 0s 2ms/step - loss: 0.0909 - accuracy: 0.9667\n",
            "Epoch 165/400\n",
            "18/18 [==============================] - 0s 1ms/step - loss: 0.1305 - accuracy: 0.9491\n",
            "Epoch 166/400\n",
            "18/18 [==============================] - 0s 1ms/step - loss: 0.1233 - accuracy: 0.9526\n",
            "Epoch 167/400\n",
            "18/18 [==============================] - 0s 2ms/step - loss: 0.1118 - accuracy: 0.9491\n",
            "Epoch 168/400\n",
            "18/18 [==============================] - 0s 1ms/step - loss: 0.0903 - accuracy: 0.9649\n",
            "Epoch 169/400\n",
            "18/18 [==============================] - 0s 1ms/step - loss: 0.0820 - accuracy: 0.9719\n",
            "Epoch 170/400\n",
            "18/18 [==============================] - 0s 1ms/step - loss: 0.1199 - accuracy: 0.9579\n",
            "Epoch 171/400\n",
            "18/18 [==============================] - 0s 1ms/step - loss: 0.0882 - accuracy: 0.9667\n",
            "Epoch 172/400\n",
            "18/18 [==============================] - 0s 2ms/step - loss: 0.0822 - accuracy: 0.9632\n",
            "Epoch 173/400\n",
            "18/18 [==============================] - 0s 2ms/step - loss: 0.0914 - accuracy: 0.9754\n",
            "Epoch 174/400\n",
            "18/18 [==============================] - 0s 2ms/step - loss: 0.0998 - accuracy: 0.9596\n",
            "Epoch 175/400\n",
            "18/18 [==============================] - 0s 2ms/step - loss: 0.0894 - accuracy: 0.9632\n",
            "Epoch 176/400\n",
            "18/18 [==============================] - 0s 1ms/step - loss: 0.1012 - accuracy: 0.9632\n",
            "Epoch 177/400\n",
            "18/18 [==============================] - 0s 1ms/step - loss: 0.0890 - accuracy: 0.9614\n",
            "Epoch 178/400\n",
            "18/18 [==============================] - 0s 1ms/step - loss: 0.0840 - accuracy: 0.9632\n",
            "Epoch 179/400\n",
            "18/18 [==============================] - 0s 2ms/step - loss: 0.1644 - accuracy: 0.9333\n",
            "Epoch 180/400\n",
            "18/18 [==============================] - 0s 2ms/step - loss: 0.0866 - accuracy: 0.9632\n",
            "Epoch 181/400\n",
            "18/18 [==============================] - 0s 1ms/step - loss: 0.0823 - accuracy: 0.9667\n",
            "Epoch 182/400\n",
            "18/18 [==============================] - 0s 2ms/step - loss: 0.0901 - accuracy: 0.9684\n",
            "Epoch 183/400\n",
            "18/18 [==============================] - 0s 2ms/step - loss: 0.0892 - accuracy: 0.9579\n",
            "Epoch 184/400\n",
            "18/18 [==============================] - 0s 2ms/step - loss: 0.0887 - accuracy: 0.9596\n",
            "Epoch 185/400\n",
            "18/18 [==============================] - 0s 2ms/step - loss: 0.0881 - accuracy: 0.9719\n",
            "Epoch 186/400\n",
            "18/18 [==============================] - 0s 2ms/step - loss: 0.0836 - accuracy: 0.9632\n",
            "Epoch 187/400\n",
            "18/18 [==============================] - 0s 2ms/step - loss: 0.0798 - accuracy: 0.9649\n",
            "Epoch 188/400\n",
            "18/18 [==============================] - 0s 2ms/step - loss: 0.0862 - accuracy: 0.9632\n",
            "Epoch 189/400\n",
            "18/18 [==============================] - 0s 2ms/step - loss: 0.0961 - accuracy: 0.9684\n",
            "Epoch 190/400\n",
            "18/18 [==============================] - 0s 2ms/step - loss: 0.0887 - accuracy: 0.9649\n",
            "Epoch 191/400\n",
            "18/18 [==============================] - 0s 2ms/step - loss: 0.1210 - accuracy: 0.9456\n",
            "Epoch 192/400\n",
            "18/18 [==============================] - 0s 2ms/step - loss: 0.0854 - accuracy: 0.9614\n",
            "Epoch 193/400\n",
            "18/18 [==============================] - 0s 1ms/step - loss: 0.0900 - accuracy: 0.9649\n",
            "Epoch 194/400\n",
            "18/18 [==============================] - 0s 1ms/step - loss: 0.0827 - accuracy: 0.9667\n",
            "Epoch 195/400\n",
            "18/18 [==============================] - 0s 1ms/step - loss: 0.0633 - accuracy: 0.9789\n",
            "Epoch 196/400\n",
            "18/18 [==============================] - 0s 1ms/step - loss: 0.1419 - accuracy: 0.9509\n",
            "Epoch 197/400\n",
            "18/18 [==============================] - 0s 1ms/step - loss: 0.1163 - accuracy: 0.9614\n",
            "Epoch 198/400\n",
            "18/18 [==============================] - 0s 2ms/step - loss: 0.1409 - accuracy: 0.9404\n",
            "Epoch 199/400\n",
            "18/18 [==============================] - 0s 2ms/step - loss: 0.1972 - accuracy: 0.9404\n",
            "Epoch 200/400\n",
            "18/18 [==============================] - 0s 2ms/step - loss: 0.0929 - accuracy: 0.9632\n",
            "Epoch 201/400\n",
            "18/18 [==============================] - 0s 2ms/step - loss: 0.0944 - accuracy: 0.9579\n",
            "Epoch 202/400\n",
            "18/18 [==============================] - 0s 2ms/step - loss: 0.0952 - accuracy: 0.9632\n",
            "Epoch 203/400\n",
            "18/18 [==============================] - 0s 1ms/step - loss: 0.0864 - accuracy: 0.9702\n",
            "Epoch 204/400\n",
            "18/18 [==============================] - 0s 2ms/step - loss: 0.0922 - accuracy: 0.9632\n",
            "Epoch 205/400\n",
            "18/18 [==============================] - 0s 2ms/step - loss: 0.1004 - accuracy: 0.9544\n",
            "Epoch 206/400\n",
            "18/18 [==============================] - 0s 1ms/step - loss: 0.0920 - accuracy: 0.9632\n",
            "Epoch 207/400\n",
            "18/18 [==============================] - 0s 1ms/step - loss: 0.0795 - accuracy: 0.9719\n",
            "Epoch 208/400\n",
            "18/18 [==============================] - 0s 1ms/step - loss: 0.0781 - accuracy: 0.9649\n",
            "Epoch 209/400\n",
            "18/18 [==============================] - 0s 1ms/step - loss: 0.1032 - accuracy: 0.9544\n",
            "Epoch 210/400\n",
            "18/18 [==============================] - 0s 1ms/step - loss: 0.0885 - accuracy: 0.9719\n",
            "Epoch 211/400\n",
            "18/18 [==============================] - 0s 1ms/step - loss: 0.0824 - accuracy: 0.9719\n",
            "Epoch 212/400\n",
            "18/18 [==============================] - 0s 1ms/step - loss: 0.0809 - accuracy: 0.9684\n",
            "Epoch 213/400\n",
            "18/18 [==============================] - 0s 1ms/step - loss: 0.0914 - accuracy: 0.9632\n",
            "Epoch 214/400\n",
            "18/18 [==============================] - 0s 2ms/step - loss: 0.0875 - accuracy: 0.9684\n",
            "Epoch 215/400\n",
            "18/18 [==============================] - 0s 2ms/step - loss: 0.0783 - accuracy: 0.9632\n",
            "Epoch 216/400\n",
            "18/18 [==============================] - 0s 2ms/step - loss: 0.0736 - accuracy: 0.9702\n",
            "Epoch 217/400\n",
            "18/18 [==============================] - 0s 2ms/step - loss: 0.0866 - accuracy: 0.9649\n",
            "Epoch 218/400\n",
            "18/18 [==============================] - 0s 2ms/step - loss: 0.0833 - accuracy: 0.9702\n",
            "Epoch 219/400\n",
            "18/18 [==============================] - 0s 2ms/step - loss: 0.0859 - accuracy: 0.9561\n",
            "Epoch 220/400\n",
            "18/18 [==============================] - 0s 2ms/step - loss: 0.0941 - accuracy: 0.9649\n",
            "Epoch 221/400\n",
            "18/18 [==============================] - 0s 1ms/step - loss: 0.0922 - accuracy: 0.9667\n",
            "Epoch 222/400\n",
            "18/18 [==============================] - 0s 1ms/step - loss: 0.0749 - accuracy: 0.9702\n",
            "Epoch 223/400\n",
            "18/18 [==============================] - 0s 2ms/step - loss: 0.0837 - accuracy: 0.9649\n",
            "Epoch 224/400\n",
            "18/18 [==============================] - 0s 2ms/step - loss: 0.0785 - accuracy: 0.9737\n",
            "Epoch 225/400\n",
            "18/18 [==============================] - 0s 2ms/step - loss: 0.0967 - accuracy: 0.9596\n",
            "Epoch 226/400\n",
            "18/18 [==============================] - 0s 1ms/step - loss: 0.0876 - accuracy: 0.9649\n",
            "Epoch 227/400\n",
            "18/18 [==============================] - 0s 2ms/step - loss: 0.0923 - accuracy: 0.9667\n",
            "Epoch 228/400\n",
            "18/18 [==============================] - 0s 2ms/step - loss: 0.0825 - accuracy: 0.9684\n",
            "Epoch 229/400\n",
            "18/18 [==============================] - 0s 2ms/step - loss: 0.0862 - accuracy: 0.9632\n",
            "Epoch 230/400\n",
            "18/18 [==============================] - 0s 1ms/step - loss: 0.0809 - accuracy: 0.9737\n",
            "Epoch 231/400\n",
            "18/18 [==============================] - 0s 1ms/step - loss: 0.1124 - accuracy: 0.9544\n",
            "Epoch 232/400\n",
            "18/18 [==============================] - 0s 2ms/step - loss: 0.1367 - accuracy: 0.9456\n",
            "Epoch 233/400\n",
            "18/18 [==============================] - 0s 2ms/step - loss: 0.1092 - accuracy: 0.9614\n",
            "Epoch 234/400\n",
            "18/18 [==============================] - 0s 2ms/step - loss: 0.0779 - accuracy: 0.9684\n",
            "Epoch 235/400\n",
            "18/18 [==============================] - 0s 2ms/step - loss: 0.0795 - accuracy: 0.9684\n",
            "Epoch 236/400\n",
            "18/18 [==============================] - 0s 1ms/step - loss: 0.0819 - accuracy: 0.9702\n",
            "Epoch 237/400\n",
            "18/18 [==============================] - 0s 2ms/step - loss: 0.0823 - accuracy: 0.9754\n",
            "Epoch 238/400\n",
            "18/18 [==============================] - 0s 1ms/step - loss: 0.0733 - accuracy: 0.9789\n",
            "Epoch 239/400\n",
            "18/18 [==============================] - 0s 2ms/step - loss: 0.0781 - accuracy: 0.9702\n",
            "Epoch 240/400\n",
            "18/18 [==============================] - 0s 1ms/step - loss: 0.1206 - accuracy: 0.9544\n",
            "Epoch 241/400\n",
            "18/18 [==============================] - 0s 2ms/step - loss: 0.0968 - accuracy: 0.9614\n",
            "Epoch 242/400\n",
            "18/18 [==============================] - 0s 1ms/step - loss: 0.0882 - accuracy: 0.9684\n",
            "Epoch 243/400\n",
            "18/18 [==============================] - 0s 1ms/step - loss: 0.0885 - accuracy: 0.9579\n",
            "Epoch 244/400\n",
            "18/18 [==============================] - 0s 1ms/step - loss: 0.0881 - accuracy: 0.9667\n",
            "Epoch 245/400\n",
            "18/18 [==============================] - 0s 1ms/step - loss: 0.0763 - accuracy: 0.9702\n",
            "Epoch 246/400\n",
            "18/18 [==============================] - 0s 2ms/step - loss: 0.0835 - accuracy: 0.9737\n",
            "Epoch 247/400\n",
            "18/18 [==============================] - 0s 2ms/step - loss: 0.0716 - accuracy: 0.9719\n",
            "Epoch 248/400\n",
            "18/18 [==============================] - 0s 1ms/step - loss: 0.0763 - accuracy: 0.9754\n",
            "Epoch 249/400\n",
            "18/18 [==============================] - 0s 1ms/step - loss: 0.0948 - accuracy: 0.9596\n",
            "Epoch 250/400\n",
            "18/18 [==============================] - 0s 1ms/step - loss: 0.0749 - accuracy: 0.9719\n",
            "Epoch 251/400\n",
            "18/18 [==============================] - 0s 1ms/step - loss: 0.1091 - accuracy: 0.9561\n",
            "Epoch 252/400\n",
            "18/18 [==============================] - 0s 2ms/step - loss: 0.1498 - accuracy: 0.9404\n",
            "Epoch 253/400\n",
            "18/18 [==============================] - 0s 2ms/step - loss: 0.1375 - accuracy: 0.9544\n",
            "Epoch 254/400\n",
            "18/18 [==============================] - 0s 2ms/step - loss: 0.0906 - accuracy: 0.9684\n",
            "Epoch 255/400\n",
            "18/18 [==============================] - 0s 2ms/step - loss: 0.0728 - accuracy: 0.9702\n",
            "Epoch 256/400\n",
            "18/18 [==============================] - 0s 2ms/step - loss: 0.0852 - accuracy: 0.9649\n",
            "Epoch 257/400\n",
            "18/18 [==============================] - 0s 1ms/step - loss: 0.1675 - accuracy: 0.9456\n",
            "Epoch 258/400\n",
            "18/18 [==============================] - 0s 1ms/step - loss: 0.1370 - accuracy: 0.9526\n",
            "Epoch 259/400\n",
            "18/18 [==============================] - 0s 2ms/step - loss: 0.0945 - accuracy: 0.9614\n",
            "Epoch 260/400\n",
            "18/18 [==============================] - 0s 1ms/step - loss: 0.1113 - accuracy: 0.9614\n",
            "Epoch 261/400\n",
            "18/18 [==============================] - 0s 1ms/step - loss: 0.0910 - accuracy: 0.9596\n",
            "Epoch 262/400\n",
            "18/18 [==============================] - 0s 2ms/step - loss: 0.0776 - accuracy: 0.9737\n",
            "Epoch 263/400\n",
            "18/18 [==============================] - 0s 2ms/step - loss: 0.0844 - accuracy: 0.9667\n",
            "Epoch 264/400\n",
            "18/18 [==============================] - 0s 1ms/step - loss: 0.0934 - accuracy: 0.9614\n",
            "Epoch 265/400\n",
            "18/18 [==============================] - 0s 1ms/step - loss: 0.0789 - accuracy: 0.9702\n",
            "Epoch 266/400\n",
            "18/18 [==============================] - 0s 2ms/step - loss: 0.0871 - accuracy: 0.9684\n",
            "Epoch 267/400\n",
            "18/18 [==============================] - 0s 1ms/step - loss: 0.0842 - accuracy: 0.9684\n",
            "Epoch 268/400\n",
            "18/18 [==============================] - 0s 2ms/step - loss: 0.0763 - accuracy: 0.9684\n",
            "Epoch 269/400\n",
            "18/18 [==============================] - 0s 1ms/step - loss: 0.0807 - accuracy: 0.9667\n",
            "Epoch 270/400\n",
            "18/18 [==============================] - 0s 2ms/step - loss: 0.0798 - accuracy: 0.9632\n",
            "Epoch 271/400\n",
            "18/18 [==============================] - 0s 1ms/step - loss: 0.0852 - accuracy: 0.9649\n",
            "Epoch 272/400\n",
            "18/18 [==============================] - 0s 2ms/step - loss: 0.0774 - accuracy: 0.9702\n",
            "Epoch 273/400\n",
            "18/18 [==============================] - 0s 1ms/step - loss: 0.0869 - accuracy: 0.9632\n",
            "Epoch 274/400\n",
            "18/18 [==============================] - 0s 2ms/step - loss: 0.0886 - accuracy: 0.9614\n",
            "Epoch 275/400\n",
            "18/18 [==============================] - 0s 1ms/step - loss: 0.0709 - accuracy: 0.9825\n",
            "Epoch 276/400\n",
            "18/18 [==============================] - 0s 2ms/step - loss: 0.0663 - accuracy: 0.9737\n",
            "Epoch 277/400\n",
            "18/18 [==============================] - 0s 2ms/step - loss: 0.0709 - accuracy: 0.9719\n",
            "Epoch 278/400\n",
            "18/18 [==============================] - 0s 1ms/step - loss: 0.0712 - accuracy: 0.9737\n",
            "Epoch 279/400\n",
            "18/18 [==============================] - 0s 1ms/step - loss: 0.0684 - accuracy: 0.9702\n",
            "Epoch 280/400\n",
            "18/18 [==============================] - 0s 2ms/step - loss: 0.0676 - accuracy: 0.9684\n",
            "Epoch 281/400\n",
            "18/18 [==============================] - 0s 2ms/step - loss: 0.0825 - accuracy: 0.9702\n",
            "Epoch 282/400\n",
            "18/18 [==============================] - 0s 2ms/step - loss: 0.0738 - accuracy: 0.9737\n",
            "Epoch 283/400\n",
            "18/18 [==============================] - 0s 2ms/step - loss: 0.0830 - accuracy: 0.9632\n",
            "Epoch 284/400\n",
            "18/18 [==============================] - 0s 2ms/step - loss: 0.0741 - accuracy: 0.9684\n",
            "Epoch 285/400\n",
            "18/18 [==============================] - 0s 2ms/step - loss: 0.0711 - accuracy: 0.9719\n",
            "Epoch 286/400\n",
            "18/18 [==============================] - 0s 1ms/step - loss: 0.0755 - accuracy: 0.9667\n",
            "Epoch 287/400\n",
            "18/18 [==============================] - 0s 1ms/step - loss: 0.0694 - accuracy: 0.9719\n",
            "Epoch 288/400\n",
            "18/18 [==============================] - 0s 1ms/step - loss: 0.0682 - accuracy: 0.9772\n",
            "Epoch 289/400\n",
            "18/18 [==============================] - 0s 2ms/step - loss: 0.0739 - accuracy: 0.9719\n",
            "Epoch 290/400\n",
            "18/18 [==============================] - 0s 2ms/step - loss: 0.0758 - accuracy: 0.9702\n",
            "Epoch 291/400\n",
            "18/18 [==============================] - 0s 2ms/step - loss: 0.0727 - accuracy: 0.9772\n",
            "Epoch 292/400\n",
            "18/18 [==============================] - 0s 2ms/step - loss: 0.0760 - accuracy: 0.9684\n",
            "Epoch 293/400\n",
            "18/18 [==============================] - 0s 2ms/step - loss: 0.1038 - accuracy: 0.9614\n",
            "Epoch 294/400\n",
            "18/18 [==============================] - 0s 2ms/step - loss: 0.0848 - accuracy: 0.9667\n",
            "Epoch 295/400\n",
            "18/18 [==============================] - 0s 2ms/step - loss: 0.1230 - accuracy: 0.9509\n",
            "Epoch 296/400\n",
            "18/18 [==============================] - 0s 1ms/step - loss: 0.1060 - accuracy: 0.9719\n",
            "Epoch 297/400\n",
            "18/18 [==============================] - 0s 2ms/step - loss: 0.0843 - accuracy: 0.9632\n",
            "Epoch 298/400\n",
            "18/18 [==============================] - 0s 1ms/step - loss: 0.0774 - accuracy: 0.9684\n",
            "Epoch 299/400\n",
            "18/18 [==============================] - 0s 1ms/step - loss: 0.0904 - accuracy: 0.9596\n",
            "Epoch 300/400\n",
            "18/18 [==============================] - 0s 1ms/step - loss: 0.0695 - accuracy: 0.9754\n",
            "Epoch 301/400\n",
            "18/18 [==============================] - 0s 2ms/step - loss: 0.0772 - accuracy: 0.9737\n",
            "Epoch 302/400\n",
            "18/18 [==============================] - 0s 1ms/step - loss: 0.0876 - accuracy: 0.9649\n",
            "Epoch 303/400\n",
            "18/18 [==============================] - 0s 2ms/step - loss: 0.0773 - accuracy: 0.9702\n",
            "Epoch 304/400\n",
            "18/18 [==============================] - 0s 2ms/step - loss: 0.0672 - accuracy: 0.9789\n",
            "Epoch 305/400\n",
            "18/18 [==============================] - 0s 1ms/step - loss: 0.0656 - accuracy: 0.9737\n",
            "Epoch 306/400\n",
            "18/18 [==============================] - 0s 2ms/step - loss: 0.0649 - accuracy: 0.9772\n",
            "Epoch 307/400\n",
            "18/18 [==============================] - 0s 1ms/step - loss: 0.0651 - accuracy: 0.9807\n",
            "Epoch 308/400\n",
            "18/18 [==============================] - 0s 1ms/step - loss: 0.0665 - accuracy: 0.9772\n",
            "Epoch 309/400\n",
            "18/18 [==============================] - 0s 1ms/step - loss: 0.0716 - accuracy: 0.9772\n",
            "Epoch 310/400\n",
            "18/18 [==============================] - 0s 2ms/step - loss: 0.0645 - accuracy: 0.9754\n",
            "Epoch 311/400\n",
            "18/18 [==============================] - 0s 1ms/step - loss: 0.1250 - accuracy: 0.9579\n",
            "Epoch 312/400\n",
            "18/18 [==============================] - 0s 2ms/step - loss: 0.0854 - accuracy: 0.9719\n",
            "Epoch 313/400\n",
            "18/18 [==============================] - 0s 1ms/step - loss: 0.0610 - accuracy: 0.9825\n",
            "Epoch 314/400\n",
            "18/18 [==============================] - 0s 1ms/step - loss: 0.0674 - accuracy: 0.9754\n",
            "Epoch 315/400\n",
            "18/18 [==============================] - 0s 1ms/step - loss: 0.0691 - accuracy: 0.9719\n",
            "Epoch 316/400\n",
            "18/18 [==============================] - 0s 2ms/step - loss: 0.0721 - accuracy: 0.9754\n",
            "Epoch 317/400\n",
            "18/18 [==============================] - 0s 1ms/step - loss: 0.0809 - accuracy: 0.9649\n",
            "Epoch 318/400\n",
            "18/18 [==============================] - 0s 2ms/step - loss: 0.0929 - accuracy: 0.9614\n",
            "Epoch 319/400\n",
            "18/18 [==============================] - 0s 2ms/step - loss: 0.1204 - accuracy: 0.9632\n",
            "Epoch 320/400\n",
            "18/18 [==============================] - 0s 1ms/step - loss: 0.0918 - accuracy: 0.9579\n",
            "Epoch 321/400\n",
            "18/18 [==============================] - 0s 2ms/step - loss: 0.0798 - accuracy: 0.9649\n",
            "Epoch 322/400\n",
            "18/18 [==============================] - 0s 1ms/step - loss: 0.0882 - accuracy: 0.9596\n",
            "Epoch 323/400\n",
            "18/18 [==============================] - 0s 1ms/step - loss: 0.0634 - accuracy: 0.9754\n",
            "Epoch 324/400\n",
            "18/18 [==============================] - 0s 2ms/step - loss: 0.0629 - accuracy: 0.9737\n",
            "Epoch 325/400\n",
            "18/18 [==============================] - 0s 1ms/step - loss: 0.0698 - accuracy: 0.9754\n",
            "Epoch 326/400\n",
            "18/18 [==============================] - 0s 2ms/step - loss: 0.0572 - accuracy: 0.9772\n",
            "Epoch 327/400\n",
            "18/18 [==============================] - 0s 1ms/step - loss: 0.0656 - accuracy: 0.9789\n",
            "Epoch 328/400\n",
            "18/18 [==============================] - 0s 2ms/step - loss: 0.0659 - accuracy: 0.9754\n",
            "Epoch 329/400\n",
            "18/18 [==============================] - 0s 2ms/step - loss: 0.0721 - accuracy: 0.9702\n",
            "Epoch 330/400\n",
            "18/18 [==============================] - 0s 1ms/step - loss: 0.0664 - accuracy: 0.9737\n",
            "Epoch 331/400\n",
            "18/18 [==============================] - 0s 1ms/step - loss: 0.0600 - accuracy: 0.9825\n",
            "Epoch 332/400\n",
            "18/18 [==============================] - 0s 1ms/step - loss: 0.0667 - accuracy: 0.9754\n",
            "Epoch 333/400\n",
            "18/18 [==============================] - 0s 1ms/step - loss: 0.1086 - accuracy: 0.9509\n",
            "Epoch 334/400\n",
            "18/18 [==============================] - 0s 1ms/step - loss: 0.1290 - accuracy: 0.9596\n",
            "Epoch 335/400\n",
            "18/18 [==============================] - 0s 1ms/step - loss: 0.0808 - accuracy: 0.9684\n",
            "Epoch 336/400\n",
            "18/18 [==============================] - 0s 2ms/step - loss: 0.0851 - accuracy: 0.9649\n",
            "Epoch 337/400\n",
            "18/18 [==============================] - 0s 2ms/step - loss: 0.0666 - accuracy: 0.9807\n",
            "Epoch 338/400\n",
            "18/18 [==============================] - 0s 1ms/step - loss: 0.0622 - accuracy: 0.9772\n",
            "Epoch 339/400\n",
            "18/18 [==============================] - 0s 2ms/step - loss: 0.0633 - accuracy: 0.9789\n",
            "Epoch 340/400\n",
            "18/18 [==============================] - 0s 1ms/step - loss: 0.0654 - accuracy: 0.9754\n",
            "Epoch 341/400\n",
            "18/18 [==============================] - 0s 1ms/step - loss: 0.0625 - accuracy: 0.9737\n",
            "Epoch 342/400\n",
            "18/18 [==============================] - 0s 2ms/step - loss: 0.0754 - accuracy: 0.9667\n",
            "Epoch 343/400\n",
            "18/18 [==============================] - 0s 1ms/step - loss: 0.0617 - accuracy: 0.9772\n",
            "Epoch 344/400\n",
            "18/18 [==============================] - 0s 2ms/step - loss: 0.0572 - accuracy: 0.9754\n",
            "Epoch 345/400\n",
            "18/18 [==============================] - 0s 2ms/step - loss: 0.0730 - accuracy: 0.9737\n",
            "Epoch 346/400\n",
            "18/18 [==============================] - 0s 1ms/step - loss: 0.0687 - accuracy: 0.9772\n",
            "Epoch 347/400\n",
            "18/18 [==============================] - 0s 2ms/step - loss: 0.0746 - accuracy: 0.9649\n",
            "Epoch 348/400\n",
            "18/18 [==============================] - 0s 2ms/step - loss: 0.0717 - accuracy: 0.9667\n",
            "Epoch 349/400\n",
            "18/18 [==============================] - 0s 2ms/step - loss: 0.0578 - accuracy: 0.9754\n",
            "Epoch 350/400\n",
            "18/18 [==============================] - 0s 2ms/step - loss: 0.0625 - accuracy: 0.9789\n",
            "Epoch 351/400\n",
            "18/18 [==============================] - 0s 2ms/step - loss: 0.0837 - accuracy: 0.9667\n",
            "Epoch 352/400\n",
            "18/18 [==============================] - 0s 2ms/step - loss: 0.0751 - accuracy: 0.9667\n",
            "Epoch 353/400\n",
            "18/18 [==============================] - 0s 2ms/step - loss: 0.0709 - accuracy: 0.9754\n",
            "Epoch 354/400\n",
            "18/18 [==============================] - 0s 1ms/step - loss: 0.0688 - accuracy: 0.9754\n",
            "Epoch 355/400\n",
            "18/18 [==============================] - 0s 1ms/step - loss: 0.0676 - accuracy: 0.9772\n",
            "Epoch 356/400\n",
            "18/18 [==============================] - 0s 2ms/step - loss: 0.0832 - accuracy: 0.9684\n",
            "Epoch 357/400\n",
            "18/18 [==============================] - 0s 1ms/step - loss: 0.0797 - accuracy: 0.9632\n",
            "Epoch 358/400\n",
            "18/18 [==============================] - 0s 1ms/step - loss: 0.0712 - accuracy: 0.9719\n",
            "Epoch 359/400\n",
            "18/18 [==============================] - 0s 1ms/step - loss: 0.0695 - accuracy: 0.9702\n",
            "Epoch 360/400\n",
            "18/18 [==============================] - 0s 1ms/step - loss: 0.0731 - accuracy: 0.9719\n",
            "Epoch 361/400\n",
            "18/18 [==============================] - 0s 2ms/step - loss: 0.0704 - accuracy: 0.9719\n",
            "Epoch 362/400\n",
            "18/18 [==============================] - 0s 2ms/step - loss: 0.0745 - accuracy: 0.9649\n",
            "Epoch 363/400\n",
            "18/18 [==============================] - 0s 1ms/step - loss: 0.0710 - accuracy: 0.9719\n",
            "Epoch 364/400\n",
            "18/18 [==============================] - 0s 2ms/step - loss: 0.1079 - accuracy: 0.9667\n",
            "Epoch 365/400\n",
            "18/18 [==============================] - 0s 1ms/step - loss: 0.0794 - accuracy: 0.9702\n",
            "Epoch 366/400\n",
            "18/18 [==============================] - 0s 2ms/step - loss: 0.0632 - accuracy: 0.9789\n",
            "Epoch 367/400\n",
            "18/18 [==============================] - 0s 2ms/step - loss: 0.0622 - accuracy: 0.9772\n",
            "Epoch 368/400\n",
            "18/18 [==============================] - 0s 2ms/step - loss: 0.0673 - accuracy: 0.9719\n",
            "Epoch 369/400\n",
            "18/18 [==============================] - 0s 2ms/step - loss: 0.0724 - accuracy: 0.9719\n",
            "Epoch 370/400\n",
            "18/18 [==============================] - 0s 2ms/step - loss: 0.0530 - accuracy: 0.9754\n",
            "Epoch 371/400\n",
            "18/18 [==============================] - 0s 1ms/step - loss: 0.0547 - accuracy: 0.9807\n",
            "Epoch 372/400\n",
            "18/18 [==============================] - 0s 1ms/step - loss: 0.0574 - accuracy: 0.9772\n",
            "Epoch 373/400\n",
            "18/18 [==============================] - 0s 1ms/step - loss: 0.0784 - accuracy: 0.9702\n",
            "Epoch 374/400\n",
            "18/18 [==============================] - 0s 1ms/step - loss: 0.0656 - accuracy: 0.9719\n",
            "Epoch 375/400\n",
            "18/18 [==============================] - 0s 2ms/step - loss: 0.0614 - accuracy: 0.9702\n",
            "Epoch 376/400\n",
            "18/18 [==============================] - 0s 2ms/step - loss: 0.0556 - accuracy: 0.9789\n",
            "Epoch 377/400\n",
            "18/18 [==============================] - 0s 1ms/step - loss: 0.0697 - accuracy: 0.9719\n",
            "Epoch 378/400\n",
            "18/18 [==============================] - 0s 2ms/step - loss: 0.0533 - accuracy: 0.9754\n",
            "Epoch 379/400\n",
            "18/18 [==============================] - 0s 1ms/step - loss: 0.0663 - accuracy: 0.9684\n",
            "Epoch 380/400\n",
            "18/18 [==============================] - 0s 2ms/step - loss: 0.1132 - accuracy: 0.9456\n",
            "Epoch 381/400\n",
            "18/18 [==============================] - 0s 2ms/step - loss: 0.0634 - accuracy: 0.9737\n",
            "Epoch 382/400\n",
            "18/18 [==============================] - 0s 2ms/step - loss: 0.0558 - accuracy: 0.9754\n",
            "Epoch 383/400\n",
            "18/18 [==============================] - 0s 2ms/step - loss: 0.0677 - accuracy: 0.9684\n",
            "Epoch 384/400\n",
            "18/18 [==============================] - 0s 2ms/step - loss: 0.0704 - accuracy: 0.9719\n",
            "Epoch 385/400\n",
            "18/18 [==============================] - 0s 1ms/step - loss: 0.0617 - accuracy: 0.9789\n",
            "Epoch 386/400\n",
            "18/18 [==============================] - 0s 1ms/step - loss: 0.0700 - accuracy: 0.9702\n",
            "Epoch 387/400\n",
            "18/18 [==============================] - 0s 1ms/step - loss: 0.0826 - accuracy: 0.9737\n",
            "Epoch 388/400\n",
            "18/18 [==============================] - 0s 2ms/step - loss: 0.0618 - accuracy: 0.9754\n",
            "Epoch 389/400\n",
            "18/18 [==============================] - 0s 2ms/step - loss: 0.0732 - accuracy: 0.9754\n",
            "Epoch 390/400\n",
            "18/18 [==============================] - 0s 1ms/step - loss: 0.0577 - accuracy: 0.9772\n",
            "Epoch 391/400\n",
            "18/18 [==============================] - 0s 1ms/step - loss: 0.0604 - accuracy: 0.9737\n",
            "Epoch 392/400\n",
            "18/18 [==============================] - 0s 2ms/step - loss: 0.0542 - accuracy: 0.9789\n",
            "Epoch 393/400\n",
            "18/18 [==============================] - 0s 1ms/step - loss: 0.0519 - accuracy: 0.9842\n",
            "Epoch 394/400\n",
            "18/18 [==============================] - 0s 2ms/step - loss: 0.0557 - accuracy: 0.9772\n",
            "Epoch 395/400\n",
            "18/18 [==============================] - 0s 1ms/step - loss: 0.0549 - accuracy: 0.9825\n",
            "Epoch 396/400\n",
            "18/18 [==============================] - 0s 1ms/step - loss: 0.0691 - accuracy: 0.9754\n",
            "Epoch 397/400\n",
            "18/18 [==============================] - 0s 1ms/step - loss: 0.0571 - accuracy: 0.9807\n",
            "Epoch 398/400\n",
            "18/18 [==============================] - 0s 2ms/step - loss: 0.0723 - accuracy: 0.9702\n",
            "Epoch 399/400\n",
            "18/18 [==============================] - 0s 1ms/step - loss: 0.0573 - accuracy: 0.9737\n",
            "Epoch 400/400\n",
            "18/18 [==============================] - 0s 1ms/step - loss: 0.0500 - accuracy: 0.9807\n"
          ],
          "name": "stdout"
        },
        {
          "output_type": "execute_result",
          "data": {
            "text/plain": [
              "<tensorflow.python.keras.callbacks.History at 0x7f8dff6b4588>"
            ]
          },
          "metadata": {
            "tags": []
          },
          "execution_count": 42
        }
      ]
    },
    {
      "cell_type": "markdown",
      "metadata": {
        "id": "fL2cd7G7pDQZ",
        "colab_type": "text"
      },
      "source": [
        "Now that the model is trained to our training data, we can test it against our training data:"
      ]
    },
    {
      "cell_type": "code",
      "metadata": {
        "id": "Fb0bqBWLpEIj",
        "colab_type": "code",
        "colab": {
          "base_uri": "https://localhost:8080/",
          "height": 54
        },
        "outputId": "85424419-2a38-440f-9744-9ac4651a0556"
      },
      "source": [
        "loss_value, accuracy_value = model.evaluate(test_data, test_labels)\n",
        "print(f'Our test accuracy was {accuracy_value}')"
      ],
      "execution_count": 44,
      "outputs": [
        {
          "output_type": "stream",
          "text": [
            "5/5 [==============================] - 0s 2ms/step - loss: 0.1417 - accuracy: 0.9536\n",
            "Our test accuracy was 0.9536423683166504\n"
          ],
          "name": "stdout"
        }
      ]
    },
    {
      "cell_type": "markdown",
      "metadata": {
        "id": "6RW8Iz3xpkm4",
        "colab_type": "text"
      },
      "source": [
        "model.evaluate will evaluate how strong our model is with the test data, and report that in the form of loss value and accuracy value (since we specified accuracy in our selected_metrics variable when we compiled the model). We'll just focus on our accuracy for now. With an accuracy of ~98%, it's not perfect, but it's very accurate."
      ]
    },
    {
      "cell_type": "markdown",
      "metadata": {
        "id": "JBcQnM-zpzyF",
        "colab_type": "text"
      },
      "source": [
        "We can also use our model to predict specific Pokémon, or at least have it tell us which status the Pokémon is most likely to have, with model.predict. All it needs to predict a Pokémon is the data for that Pokémon itself. We're providing that by selecting a certain index of test_data:"
      ]
    },
    {
      "cell_type": "code",
      "metadata": {
        "id": "dN4puBfip076",
        "colab_type": "code",
        "colab": {}
      },
      "source": [
        "def predictor(test_data, test_labels, index):\n",
        "    prediction = model.predict(test_data)\n",
        "    if np.argmax(prediction[index]) == test_labels[index]:\n",
        "        print(f'This was correctly predicted to be a \\\"{test_labels[index]}\\\"!')\n",
        "    else:\n",
        "        print(f'This was incorrectly predicted to be a \\\"{np.argmax(prediction[index])}\\\". It was actually a \\\"{test_labels[index]}\\\".')\n",
        "        return(prediction)"
      ],
      "execution_count": 45,
      "outputs": []
    },
    {
      "cell_type": "markdown",
      "metadata": {
        "id": "XeKqnoYuqKKH",
        "colab_type": "text"
      },
      "source": [
        "Let's look at one of the more well-known legendary Pokémon: Mewtwo. He's number 150 in the list of Pokémon, so we'll look at index 149:\n",
        "\n"
      ]
    },
    {
      "cell_type": "code",
      "metadata": {
        "id": "d-HFDXG2qLPW",
        "colab_type": "code",
        "colab": {
          "base_uri": "https://localhost:8080/",
          "height": 35
        },
        "outputId": "03acc207-9741-48d6-ed5e-808fa7aab976"
      },
      "source": [
        "predictor(test_data, test_labels,11)"
      ],
      "execution_count": 69,
      "outputs": [
        {
          "output_type": "stream",
          "text": [
            "This was correctly predicted to be a \"0\"!\n"
          ],
          "name": "stdout"
        }
      ]
    },
    {
      "cell_type": "code",
      "metadata": {
        "id": "LzGgfulYplzm",
        "colab_type": "code",
        "colab": {
          "base_uri": "https://localhost:8080/",
          "height": 35
        },
        "outputId": "08ade87f-88e7-4075-e6f3-e33f656a9686"
      },
      "source": [
        "df_test['isLegendary'][11]"
      ],
      "execution_count": 70,
      "outputs": [
        {
          "output_type": "execute_result",
          "data": {
            "text/plain": [
              "0"
            ]
          },
          "metadata": {
            "tags": []
          },
          "execution_count": 70
        }
      ]
    },
    {
      "cell_type": "code",
      "metadata": {
        "id": "foVcwfVmqlQQ",
        "colab_type": "code",
        "colab": {}
      },
      "source": [
        ""
      ],
      "execution_count": null,
      "outputs": []
    }
  ]
}